{
 "cells": [
  {
   "cell_type": "code",
   "execution_count": 1,
   "metadata": {},
   "outputs": [],
   "source": [
    "import tensorflow as tf\n",
    "import os\n",
    "import re\n",
    "import unicodedata\n",
    "import io\n",
    "import csv\n",
    "import emoji\n",
    "\n",
    "sys.path.insert(0, '../tf_glove')\n",
    "\n",
    "from nltk.tokenize import TweetTokenizer\n",
    "from tf_glove import GloVeModel\n",
    "\n",
    "def preprocess_sentence(sentence):\n",
    "    w = '<start> ' + ' '.join(w.split()) + ' <end>'\n",
    "    return w\n",
    "\n",
    "def create_dataset(path, num_examples):\n",
    "    dataset = []\n",
    "    with open(path, newline='',  encoding=\"utf8\") as data_file:\n",
    "        reader = csv.reader(data_file, delimiter=',', quotechar='\\\"')\n",
    "        for row in reader:\n",
    "            side_a = '<start> ' + row[0] + ' <end>'\n",
    "            side_b = '<start> ' + row[1] + ' <end>'\n",
    "            # normalize all whitespaces to space\n",
    "            side_a = ' '.join(side_a.split())\n",
    "            side_b = ' '.join(side_b.split())\n",
    "            dataset.append([side_a, side_b])\n",
    "    return dataset\n",
    "\n",
    "\n",
    "def tokenize(sentences, model):\n",
    "    tokenizer = TweetTokenizer()\n",
    "    tensor = []\n",
    "    for sentence in sentences:\n",
    "        tokens = [emoji.demojize(token.lower())\n",
    "                  for token in tokenizer.tokenize(sentence)]\n",
    "        vector = []\n",
    "        if len(tokens) > 600:\n",
    "            print(sentence, len(tokens))\n",
    "\n",
    "        for token in tokens:\n",
    "            try:\n",
    "                vector.append(model.id_for_word(token))\n",
    "            except:\n",
    "                pass\n",
    "        tensor.append(vector)\n",
    "\n",
    "    tensor = tf.keras.preprocessing.sequence.pad_sequences(\n",
    "        tensor, padding='post')\n",
    "\n",
    "    print(tensor.shape)\n",
    "    return tensor\n",
    "\n",
    "\n",
    "def load_dataset(glove_model, path, num_examples=None):\n",
    "    dataset = create_dataset(path, num_examples)\n",
    "\n",
    "    input_data = map(lambda x: x[0], dataset)\n",
    "    output_data = map(lambda x: x[1], dataset)\n",
    "\n",
    "    input_tensor = tokenize(input_data, glove_model)\n",
    "    target_tensor = tokenize(output_data, glove_model)\n",
    "\n",
    "    return input_tensor, target_tensor"
   ]
  },
  {
   "cell_type": "code",
   "execution_count": 16,
   "metadata": {
    "tags": [
     "outputPrepend",
     "outputPrepend",
     "outputPrepend",
     "outputPrepend",
     "outputPrepend",
     "outputPrepend",
     "outputPrepend"
    ]
   },
   "outputs": [
    {
     "output_type": "stream",
     "name": "stdout",
     "text": "(56297, 69)\n(56297, 36)\n"
    }
   ],
   "source": [
    "glove_model = GloVeModel()\n",
    "glove_model.load_from_file('../data/glove.local.txt')\n",
    "\n",
    "xd = load_dataset(glove_model, '../data/reddit.csv')"
   ]
  },
  {
   "cell_type": "code",
   "execution_count": null,
   "metadata": {},
   "outputs": [],
   "source": [
    "preprocess_sentence"
   ]
  },
  {
   "cell_type": "code",
   "execution_count": null,
   "metadata": {},
   "outputs": [],
   "source": []
  }
 ],
 "metadata": {
  "language_info": {
   "codemirror_mode": {
    "name": "ipython",
    "version": 3
   },
   "file_extension": ".py",
   "mimetype": "text/x-python",
   "name": "python",
   "nbconvert_exporter": "python",
   "pygments_lexer": "ipython3",
   "version": "3.8.3-final"
  },
  "orig_nbformat": 2,
  "kernelspec": {
   "name": "python38064bit604095896627458f9181f3803955bc61",
   "display_name": "Python 3.8.0 64-bit"
  }
 },
 "nbformat": 4,
 "nbformat_minor": 2
}