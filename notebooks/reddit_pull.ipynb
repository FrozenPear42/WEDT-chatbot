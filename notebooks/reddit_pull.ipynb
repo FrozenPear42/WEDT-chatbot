{
 "cells": [
  {
   "cell_type": "code",
   "execution_count": 1,
   "metadata": {},
   "outputs": [],
   "source": [
    "import requests\n",
    "import json\n",
    "import time\n",
    "\n",
    "def create_pushshift_url(subreddit, from_ts, to_ts, size):\n",
    "    url = 'https://api.pushshift.io/reddit/search/submission/?&size='+str(size)+'&after='+str(from_ts)+'&before='+str(to_ts)+'&subreddit='+str(subreddit)+'&fields=title,selftext,id,created_utc'\n",
    "    return url\n",
    "\n",
    "def get_data(subreddit, from_date, to_date, size, text_length):\n",
    "    from_ts = int(time.mktime(from_date.timetuple()))\n",
    "    to_ts = int(time.mktime(to_date.timetuple()))\n",
    "    data = list()\n",
    "    while len(data) < size:\n",
    "        url = create_pushshift_url('CasualConversation', from_ts, to_ts, 500)\n",
    "        r = requests.get(url)\n",
    "        data_part = json.loads(r.text)['data']\n",
    "        data_part = [item for item in data_part if 'selftext' in item and 'created_utc' in item and len(item['selftext']) < text_length and item['selftext'] != '[removed]' and item['selftext'] != '[deleted]']\n",
    "        data_part = list(map(lambda item: {'id': item['id'], 'text': ' '.join([''.join(item['title'].split()), ' '.join(item['selftext'].split())]), 'time': item['created_utc']}, data_part))\n",
    "        data = data + data_part\n",
    "        from_ts = data[-1]['time'] + 1\n",
    "        print(\"got {} items ({} total), next date: {}\".format(len(data_part), len(data), from_ts))\n",
    "    return data\n"
   ]
  },
  {
   "cell_type": "code",
   "execution_count": 2,
   "metadata": {},
   "outputs": [
    {
     "output_type": "stream",
     "name": "stdout",
     "text": "got 50 items (50 total), next date: 1546419258\ngot 69 items (119 total), next date: 1546574457\ngot 65 items (184 total), next date: 1546773144\ngot 49 items (233 total), next date: 1546923649\ngot 81 items (314 total), next date: 1547091901\ngot 53 items (367 total), next date: 1547242244\ngot 65 items (432 total), next date: 1547397503\ngot 56 items (488 total), next date: 1547532787\ngot 40 items (528 total), next date: 1547695402\ngot 60 items (588 total), next date: 1547861570\ngot 54 items (642 total), next date: 1548028534\ngot 59 items (701 total), next date: 1548183605\ngot 53 items (754 total), next date: 1548343432\ngot 56 items (810 total), next date: 1548507326\ngot 43 items (853 total), next date: 1548697956\ngot 59 items (912 total), next date: 1548875549\ngot 66 items (978 total), next date: 1549049091\ngot 52 items (1030 total), next date: 1549214854\n"
    }
   ],
   "source": [
    "from datetime import date\n",
    "from_date = date.fromisoformat('2019-01-01')\n",
    "to_date = date.fromisoformat('2020-01-01')\n",
    "\n",
    "data = get_data(\"CasualConversation\", from_date, to_date, 1000, 200)\n"
   ]
  },
  {
   "cell_type": "code",
   "execution_count": 3,
   "metadata": {},
   "outputs": [
    {
     "output_type": "stream",
     "name": "stdout",
     "text": "processing 1\nprocessing 2\nprocessing 3\nprocessing 4\nprocessing 5\nprocessing 6\nprocessing 7\nprocessing 8\nprocessing 9\nprocessing 10\nprocessing 11\nprocessing 12\nprocessing 13\nprocessing 14\nprocessing 15\nprocessing 16\nprocessing 17\nprocessing 18\nprocessing 19\nprocessing 20\nprocessing 21\nprocessing 22\nprocessing 23\nprocessing 24\nprocessing 25\nprocessing 26\nprocessing 27\nprocessing 28\nprocessing 29\nprocessing 30\nprocessing 31\nprocessing 32\nprocessing 33\nprocessing 34\nprocessing 35\nprocessing 36\nprocessing 37\nprocessing 38\nprocessing 39\nprocessing 40\nprocessing 41\nprocessing 42\nprocessing 43\nprocessing 44\nprocessing 45\nprocessing 46\nprocessing 47\nprocessing 48\nprocessing 49\nprocessing 50\nprocessing 51\nprocessing 52\nprocessing 53\nprocessing 54\nprocessing 55\nprocessing 56\nprocessing 57\nprocessing 58\nprocessing 59\nprocessing 60\nprocessing 61\nprocessing 62\nprocessing 63\nprocessing 64\nprocessing 65\nprocessing 66\nprocessing 67\nprocessing 68\nprocessing 69\nprocessing 70\nprocessing 71\nprocessing 72\nprocessing 73\nprocessing 74\nprocessing 75\nprocessing 76\nprocessing 77\nprocessing 78\nprocessing 79\nprocessing 80\nprocessing 81\nprocessing 82\nprocessing 83\nprocessing 84\nprocessing 85\nprocessing 86\nprocessing 87\nprocessing 88\nprocessing 89\nprocessing 90\nprocessing 91\nprocessing 92\nprocessing 93\nprocessing 94\nprocessing 95\nprocessing 96\nprocessing 97\nprocessing 98\nprocessing 99\nprocessing 100\nprocessing 101\nprocessing 102\nprocessing 103\nprocessing 104\nprocessing 105\nprocessing 106\nprocessing 107\nprocessing 108\nprocessing 109\nprocessing 110\nprocessing 111\nprocessing 112\nprocessing 113\nprocessing 114\nprocessing 115\nprocessing 116\nprocessing 117\nprocessing 118\nprocessing 119\nprocessing 120\nprocessing 121\nprocessing 122\nprocessing 123\nprocessing 124\nprocessing 125\nprocessing 126\nprocessing 127\nprocessing 128\nprocessing 129\nprocessing 130\nprocessing 131\nprocessing 132\nprocessing 133\nprocessing 134\nprocessing 135\nprocessing 136\nprocessing 137\nprocessing 138\nprocessing 139\nprocessing 140\nprocessing 141\nprocessing 142\nprocessing 143\nprocessing 144\nprocessing 145\nprocessing 146\nprocessing 147\nprocessing 148\nprocessing 149\nprocessing 150\nprocessing 151\nprocessing 152\nprocessing 153\nprocessing 154\nprocessing 155\nprocessing 156\nprocessing 157\nprocessing 158\nprocessing 159\nprocessing 160\nprocessing 161\nprocessing 162\nprocessing 163\nprocessing 164\nprocessing 165\nprocessing 166\nprocessing 167\nprocessing 168\nprocessing 169\nprocessing 170\nprocessing 171\nprocessing 172\nprocessing 173\nprocessing 174\nprocessing 175\nprocessing 176\nprocessing 177\nprocessing 178\nprocessing 179\nprocessing 180\nprocessing 181\nprocessing 182\nprocessing 183\nprocessing 184\nprocessing 185\nprocessing 186\nprocessing 187\nprocessing 188\nprocessing 189\nprocessing 190\nprocessing 191\nprocessing 192\nprocessing 193\nprocessing 194\nprocessing 195\nprocessing 196\nprocessing 197\nprocessing 198\nprocessing 199\nprocessing 200\nprocessing 201\nprocessing 202\nprocessing 203\nprocessing 204\nprocessing 205\nprocessing 206\nprocessing 207\nprocessing 208\nprocessing 209\nprocessing 210\nprocessing 211\nprocessing 212\nprocessing 213\nprocessing 214\nprocessing 215\nprocessing 216\nprocessing 217\nprocessing 218\nprocessing 219\nprocessing 220\nprocessing 221\nprocessing 222\nprocessing 223\nprocessing 224\nprocessing 225\nprocessing 226\nprocessing 227\nprocessing 228\nprocessing 229\nprocessing 230\nprocessing 231\nprocessing 232\nprocessing 233\nprocessing 234\nprocessing 235\nprocessing 236\nprocessing 237\nprocessing 238\nprocessing 239\nprocessing 240\nprocessing 241\nprocessing 242\nprocessing 243\nprocessing 244\nprocessing 245\nprocessing 246\nprocessing 247\nprocessing 248\nprocessing 249\nprocessing 250\nprocessing 251\nprocessing 252\nprocessing 253\nprocessing 254\nprocessing 255\nprocessing 256\nprocessing 257\nprocessing 258\nprocessing 259\nprocessing 260\nprocessing 261\nprocessing 262\nprocessing 263\nprocessing 264\nprocessing 265\nprocessing 266\nprocessing 267\nprocessing 268\nprocessing 269\nprocessing 270\nprocessing 271\nprocessing 272\nprocessing 273\nprocessing 274\nprocessing 275\nprocessing 276\nprocessing 277\nprocessing 278\nprocessing 279\nprocessing 280\nprocessing 281\nprocessing 282\nprocessing 283\nprocessing 284\nprocessing 285\nprocessing 286\nprocessing 287\nprocessing 288\nprocessing 289\nprocessing 290\nprocessing 291\nprocessing 292\nprocessing 293\nprocessing 294\nprocessing 295\nprocessing 296\nprocessing 297\nprocessing 298\nprocessing 299\nprocessing 300\nprocessing 301\nprocessing 302\nprocessing 303\nprocessing 304\nprocessing 305\nprocessing 306\nprocessing 307\nprocessing 308\nprocessing 309\nprocessing 310\nprocessing 311\nprocessing 312\nprocessing 313\nprocessing 314\nprocessing 315\nprocessing 316\nprocessing 317\nprocessing 318\nprocessing 319\nprocessing 320\nprocessing 321\nprocessing 322\nprocessing 323\nprocessing 324\nprocessing 325\nprocessing 326\nprocessing 327\nprocessing 328\nprocessing 329\nprocessing 330\nprocessing 331\nprocessing 332\nprocessing 333\nprocessing 334\nprocessing 335\nprocessing 336\nprocessing 337\nprocessing 338\nprocessing 339\nprocessing 340\nprocessing 341\nprocessing 342\nprocessing 343\nprocessing 344\nprocessing 345\nprocessing 346\nprocessing 347\nprocessing 348\nprocessing 349\nprocessing 350\nprocessing 351\nprocessing 352\nprocessing 353\nprocessing 354\nprocessing 355\nprocessing 356\nprocessing 357\nprocessing 358\nprocessing 359\nprocessing 360\nprocessing 361\nprocessing 362\nprocessing 363\nprocessing 364\nprocessing 365\nprocessing 366\nprocessing 367\nprocessing 368\nprocessing 369\nprocessing 370\nprocessing 371\nprocessing 372\nprocessing 373\nprocessing 374\nprocessing 375\nprocessing 376\nprocessing 377\nprocessing 378\nprocessing 379\nprocessing 380\nprocessing 381\nprocessing 382\nprocessing 383\nprocessing 384\nprocessing 385\nprocessing 386\nprocessing 387\nprocessing 388\nprocessing 389\nprocessing 390\nprocessing 391\nprocessing 392\nprocessing 393\nprocessing 394\nprocessing 395\nprocessing 396\nprocessing 397\nprocessing 398\nprocessing 399\nprocessing 400\nprocessing 401\nprocessing 402\nprocessing 403\nprocessing 404\nprocessing 405\nprocessing 406\nprocessing 407\nprocessing 408\nprocessing 409\nprocessing 410\nprocessing 411\nprocessing 412\nprocessing 413\nprocessing 414\nprocessing 415\nprocessing 416\nprocessing 417\nprocessing 418\nprocessing 419\nprocessing 420\nprocessing 421\nprocessing 422\nprocessing 423\nprocessing 424\nprocessing 425\nprocessing 426\nprocessing 427\nprocessing 428\nprocessing 429\nprocessing 430\nprocessing 431\nprocessing 432\nprocessing 433\nprocessing 434\nprocessing 435\nprocessing 436\nprocessing 437\nprocessing 438\nprocessing 439\nprocessing 440\nprocessing 441\nprocessing 442\nprocessing 443\nprocessing 444\nprocessing 445\nprocessing 446\nprocessing 447\nprocessing 448\nprocessing 449\nprocessing 450\nprocessing 451\nprocessing 452\nprocessing 453\nprocessing 454\nprocessing 455\nprocessing 456\nprocessing 457\nprocessing 458\nprocessing 459\nprocessing 460\nprocessing 461\nprocessing 462\nprocessing 463\nprocessing 464\nprocessing 465\nprocessing 466\nprocessing 467\nprocessing 468\nprocessing 469\nprocessing 470\nprocessing 471\nprocessing 472\nprocessing 473\nprocessing 474\nprocessing 475\nprocessing 476\nprocessing 477\nprocessing 478\nprocessing 479\nprocessing 480\nprocessing 481\nprocessing 482\nprocessing 483\nprocessing 484\nprocessing 485\nprocessing 486\nprocessing 487\nprocessing 488\nprocessing 489\nprocessing 490\nprocessing 491\nprocessing 492\nprocessing 493\nprocessing 494\nprocessing 495\nprocessing 496\nprocessing 497\nprocessing 498\nprocessing 499\nprocessing 500\nprocessing 501\nprocessing 502\nprocessing 503\nprocessing 504\nprocessing 505\nprocessing 506\nprocessing 507\nprocessing 508\nprocessing 509\nprocessing 510\nprocessing 511\nprocessing 512\nprocessing 513\nprocessing 514\nprocessing 515\nprocessing 516\nprocessing 517\nprocessing 518\nprocessing 519\nprocessing 520\nprocessing 521\nprocessing 522\nprocessing 523\nprocessing 524\nprocessing 525\nprocessing 526\nprocessing 527\nprocessing 528\nprocessing 529\nprocessing 530\nprocessing 531\nprocessing 532\nprocessing 533\nprocessing 534\nprocessing 535\nprocessing 536\nprocessing 537\nprocessing 538\nprocessing 539\nprocessing 540\nprocessing 541\nprocessing 542\nprocessing 543\nprocessing 544\nprocessing 545\nprocessing 546\nprocessing 547\nprocessing 548\nprocessing 549\nprocessing 550\nprocessing 551\nprocessing 552\nprocessing 553\nprocessing 554\nprocessing 555\nprocessing 556\nprocessing 557\nprocessing 558\nprocessing 559\nprocessing 560\nprocessing 561\nprocessing 562\nprocessing 563\nprocessing 564\nprocessing 565\nprocessing 566\nprocessing 567\nprocessing 568\nprocessing 569\nprocessing 570\nprocessing 571\nprocessing 572\nprocessing 573\nprocessing 574\nprocessing 575\nprocessing 576\nprocessing 577\nprocessing 578\nprocessing 579\nprocessing 580\nprocessing 581\nprocessing 582\nprocessing 583\nprocessing 584\nprocessing 585\nprocessing 586\nprocessing 587\nprocessing 588\nprocessing 589\nprocessing 590\nprocessing 591\nprocessing 592\nprocessing 593\nprocessing 594\nprocessing 595\nprocessing 596\nprocessing 597\nprocessing 598\nprocessing 599\nprocessing 600\nprocessing 601\nprocessing 602\nprocessing 603\nprocessing 604\nprocessing 605\nprocessing 606\nprocessing 607\nprocessing 608\nprocessing 609\nprocessing 610\nprocessing 611\nprocessing 612\nprocessing 613\nprocessing 614\nprocessing 615\nprocessing 616\nprocessing 617\nprocessing 618\nprocessing 619\nprocessing 620\nprocessing 621\nprocessing 622\nprocessing 623\nprocessing 624\nprocessing 625\nprocessing 626\nprocessing 627\nprocessing 628\nprocessing 629\nprocessing 630\nprocessing 631\nprocessing 632\nprocessing 633\nprocessing 634\nprocessing 635\nprocessing 636\nprocessing 637\nprocessing 638\nprocessing 639\nprocessing 640\nprocessing 641\nprocessing 642\nprocessing 643\nprocessing 644\nprocessing 645\nprocessing 646\nprocessing 647\nprocessing 648\nprocessing 649\nprocessing 650\nprocessing 651\nprocessing 652\nprocessing 653\nprocessing 654\nprocessing 655\nprocessing 656\nprocessing 657\nprocessing 658\nprocessing 659\nprocessing 660\nprocessing 661\nprocessing 662\nprocessing 663\nprocessing 664\nprocessing 665\nprocessing 666\nprocessing 667\nprocessing 668\nprocessing 669\nprocessing 670\nprocessing 671\nprocessing 672\nprocessing 673\nprocessing 674\nprocessing 675\nprocessing 676\nprocessing 677\nprocessing 678\nprocessing 679\nprocessing 680\nprocessing 681\nprocessing 682\nprocessing 683\nprocessing 684\nprocessing 685\nprocessing 686\nprocessing 687\nprocessing 688\nprocessing 689\nprocessing 690\nprocessing 691\nprocessing 692\nprocessing 693\nprocessing 694\nprocessing 695\nprocessing 696\nprocessing 697\nprocessing 698\nprocessing 699\nprocessing 700\nprocessing 701\nprocessing 702\nprocessing 703\nprocessing 704\nprocessing 705\nprocessing 706\nprocessing 707\nprocessing 708\nprocessing 709\nprocessing 710\nprocessing 711\nprocessing 712\nprocessing 713\nprocessing 714\nprocessing 715\nprocessing 716\nprocessing 717\nprocessing 718\nprocessing 719\nprocessing 720\nprocessing 721\nprocessing 722\nprocessing 723\nprocessing 724\nprocessing 725\nprocessing 726\nprocessing 727\nprocessing 728\nprocessing 729\nprocessing 730\nprocessing 731\nprocessing 732\nprocessing 733\nprocessing 734\nprocessing 735\nprocessing 736\nprocessing 737\nprocessing 738\nprocessing 739\nprocessing 740\nprocessing 741\nprocessing 742\nprocessing 743\nprocessing 744\nprocessing 745\nprocessing 746\nprocessing 747\nprocessing 748\nprocessing 749\nprocessing 750\nprocessing 751\nprocessing 752\nprocessing 753\nprocessing 754\nprocessing 755\nprocessing 756\nprocessing 757\nprocessing 758\nprocessing 759\nprocessing 760\nprocessing 761\nprocessing 762\nprocessing 763\nprocessing 764\nprocessing 765\nprocessing 766\nprocessing 767\nprocessing 768\nprocessing 769\nprocessing 770\nprocessing 771\nprocessing 772\nprocessing 773\nprocessing 774\nprocessing 775\nprocessing 776\nprocessing 777\nprocessing 778\nprocessing 779\nprocessing 780\nprocessing 781\nprocessing 782\nprocessing 783\nprocessing 784\nprocessing 785\nprocessing 786\nprocessing 787\nprocessing 788\nprocessing 789\nprocessing 790\nprocessing 791\nprocessing 792\nprocessing 793\nprocessing 794\nprocessing 795\nprocessing 796\nprocessing 797\nprocessing 798\nprocessing 799\nprocessing 800\nprocessing 801\nprocessing 802\nprocessing 803\nprocessing 804\nprocessing 805\nprocessing 806\nprocessing 807\nprocessing 808\nprocessing 809\nprocessing 810\nprocessing 811\nprocessing 812\nprocessing 813\nprocessing 814\nprocessing 815\nprocessing 816\nprocessing 817\nprocessing 818\nprocessing 819\nprocessing 820\nprocessing 821\nprocessing 822\nprocessing 823\nprocessing 824\nprocessing 825\nprocessing 826\nprocessing 827\nprocessing 828\nprocessing 829\nprocessing 830\nprocessing 831\nprocessing 832\nprocessing 833\nprocessing 834\nprocessing 835\nprocessing 836\nprocessing 837\nprocessing 838\nprocessing 839\nprocessing 840\nprocessing 841\nprocessing 842\nprocessing 843\nprocessing 844\nprocessing 845\nprocessing 846\nprocessing 847\nprocessing 848\nprocessing 849\nprocessing 850\nprocessing 851\nprocessing 852\nprocessing 853\nprocessing 854\nprocessing 855\nprocessing 856\nprocessing 857\nprocessing 858\nprocessing 859\nprocessing 860\nprocessing 861\nprocessing 862\nprocessing 863\nprocessing 864\nprocessing 865\nprocessing 866\nprocessing 867\nprocessing 868\nprocessing 869\nprocessing 870\nprocessing 871\nprocessing 872\nprocessing 873\nprocessing 874\nprocessing 875\nprocessing 876\nprocessing 877\nprocessing 878\nprocessing 879\nprocessing 880\nprocessing 881\nprocessing 882\nprocessing 883\nprocessing 884\nprocessing 885\nprocessing 886\nprocessing 887\nprocessing 888\nprocessing 889\nprocessing 890\nprocessing 891\nprocessing 892\nprocessing 893\nprocessing 894\nprocessing 895\nprocessing 896\nprocessing 897\nprocessing 898\nprocessing 899\nprocessing 900\nprocessing 901\nprocessing 902\nprocessing 903\nprocessing 904\nprocessing 905\nprocessing 906\nprocessing 907\nprocessing 908\nprocessing 909\nprocessing 910\nprocessing 911\nprocessing 912\nprocessing 913\nprocessing 914\nprocessing 915\nprocessing 916\nprocessing 917\nprocessing 918\nprocessing 919\nprocessing 920\nprocessing 921\nprocessing 922\nprocessing 923\nprocessing 924\nprocessing 925\nprocessing 926\nprocessing 927\nprocessing 928\nprocessing 929\nprocessing 930\nprocessing 931\nprocessing 932\nprocessing 933\nprocessing 934\nprocessing 935\nprocessing 936\nprocessing 937\nprocessing 938\nprocessing 939\nprocessing 940\nprocessing 941\nprocessing 942\nprocessing 943\nprocessing 944\nprocessing 945\nprocessing 946\nprocessing 947\nprocessing 948\nprocessing 949\nprocessing 950\nprocessing 951\nprocessing 952\nprocessing 953\nprocessing 954\nprocessing 955\nprocessing 956\nprocessing 957\nprocessing 958\nprocessing 959\nprocessing 960\nprocessing 961\nprocessing 962\nprocessing 963\nprocessing 964\nprocessing 965\nprocessing 966\nprocessing 967\nprocessing 968\nprocessing 969\nprocessing 970\nprocessing 971\nprocessing 972\nprocessing 973\nprocessing 974\nprocessing 975\nprocessing 976\nprocessing 977\nprocessing 978\nprocessing 979\nprocessing 980\nprocessing 981\nprocessing 982\nprocessing 983\nprocessing 984\nprocessing 985\nprocessing 986\nprocessing 987\nprocessing 988\nprocessing 989\nprocessing 990\nprocessing 991\nprocessing 992\nprocessing 993\nprocessing 994\nprocessing 995\nprocessing 996\nprocessing 997\nprocessing 998\nprocessing 999\nprocessing 1000\nprocessing 1001\nprocessing 1002\nprocessing 1003\nprocessing 1004\nprocessing 1005\nprocessing 1006\nprocessing 1007\nprocessing 1008\nprocessing 1009\nprocessing 1010\nprocessing 1011\nprocessing 1012\nprocessing 1013\nprocessing 1014\nprocessing 1015\nprocessing 1016\nprocessing 1017\nprocessing 1018\nprocessing 1019\nprocessing 1020\nprocessing 1021\nprocessing 1022\nprocessing 1023\nprocessing 1024\nprocessing 1025\nprocessing 1026\nprocessing 1027\nprocessing 1028\nprocessing 1029\nprocessing 1030\n"
    }
   ],
   "source": [
    "id = 0\n",
    "for submission in data:\n",
    "    id += 1\n",
    "    print(\"processing \" + str(id))\n",
    "    url = 'https://api.pushshift.io/reddit/comment/search/' + '?link_id=' + submission['id'] + '&size=5' +  '&nest_level=1' + '&fields=id,body'\n",
    "    r = requests.get(url)\n",
    "    comments = json.loads(r.text)['data']\n",
    "    submission['comments'] = [' '.join(c['body'].split()) for c in comments]"
   ]
  },
  {
   "cell_type": "code",
   "execution_count": 4,
   "metadata": {},
   "outputs": [],
   "source": [
    "import csv\n",
    "def create_csv(data, filename):\n",
    "    upload_count = 0\n",
    "    file = filename\n",
    "    with open(file, 'w', newline='', encoding='utf-8') as file: \n",
    "        a = csv.writer(file, delimiter=',')\n",
    "        headers = [\"ID\",\"Message\",\"Comment\"]\n",
    "        a.writerow(headers)\n",
    "        for sub in data:\n",
    "            if 'comments' not in sub:\n",
    "                continue\n",
    "            for c in sub['comments']:\n",
    "                a.writerow([sub['id'], sub['text'], c])"
   ]
  },
  {
   "cell_type": "code",
   "execution_count": 5,
   "metadata": {},
   "outputs": [],
   "source": [
    "create_csv(data, 'test_reddit2.csv')"
   ]
  },
  {
   "cell_type": "code",
   "execution_count": null,
   "metadata": {},
   "outputs": [],
   "source": []
  }
 ],
 "metadata": {
  "language_info": {
   "codemirror_mode": {
    "name": "ipython",
    "version": 3
   },
   "file_extension": ".py",
   "mimetype": "text/x-python",
   "name": "python",
   "nbconvert_exporter": "python",
   "pygments_lexer": "ipython3",
   "version": "3.8.0-final"
  },
  "orig_nbformat": 2,
  "kernelspec": {
   "name": "python38064bit604095896627458f9181f3803955bc61",
   "display_name": "Python 3.8.0 64-bit"
  }
 },
 "nbformat": 4,
 "nbformat_minor": 2
}